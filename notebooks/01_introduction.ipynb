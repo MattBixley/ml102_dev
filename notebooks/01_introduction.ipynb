{
 "cells": [
  {
   "cell_type": "markdown",
   "id": "57490165-3aa2-4c98-9504-a126f82895ae",
   "metadata": {},
   "source": [
    "# Introduction"
   ]
  },
  {
   "cell_type": "markdown",
   "id": "3019c7e6",
   "metadata": {},
   "source": [
    "## Contents/Learning\n",
    "* CNN\n",
    "* Classification\n",
    "* Segmentation\n",
    "* Transfer Learning/Data Augmentation ????\n",
    "\n",
    "Discuss source of lessons [TensorFlow Tutorials](www.tensorflow.org/tutorials/) perhaps discuss PyTorch. \n",
    "\n",
    "What is Deep Learning\n",
    "Discuss CNNs  \n",
    "\n",
    "![CNN Workflow](../images/CNNflow.jpeg)\n",
    "\n",
    "Convolutional Neural Networks are specialized for applications in image & video recognition. CNN is mainly used in image analysis tasks like Image recognition, Object detection & Segmentation.\n",
    "\n",
    "There are three types of layers in Convolutional Neural Networks:\n",
    "\n",
    "1) Convolutional Layer: In a typical neural network each input neuron is connected to the next hidden layer. In CNN, only a small region of the input layer neurons connect to the neuron hidden layer.\n",
    "\n",
    "2) Pooling Layer: The pooling layer is used to reduce the dimensionality of the feature map. There will be multiple activation & pooling layers inside the hidden layer of the CNN.\n",
    "\n",
    "3) Fully-Connected layer: Fully Connected Layers form the last few layers in the network. The input to the fully connected layer is the output from the final Pooling or Convolutional Layer, which is flattened and then fed into the fully connected layer.\n",
    "\n",
    "\n",
    "\n",
    "### Example\n",
    "**Experiences developing an operational workflow for large-scale instance and semantic segmentation of remote sensing imagery using CNNs**\n",
    "\n",
    "*Jan Schindler, Brent Martin, Alexander Amies, Ben Jolly and David Pairman*\n",
    "*MWLR*\n",
    "\n",
    "Convolutional Neural Network (CNN) architectures offer unprecedented opportunities for improved\n",
    "mapping of land cover, change and individual features in satellite and aerial imagery compared to\n",
    "traditional machine learning algorithms (e.g., Random Forests). We have utilized state-of-the art CNN\n",
    "architectures for instance segmentation of objects using MaskRCNN and semantic segmentation of land\n",
    "cover using ResUNet and have developed an operational workflow for mapping exercises at the local-,\n",
    "regional- and national scale.\n",
    "While a plethora of open-source Deep Learning frameworks exist, they usually target non-spatial\n",
    "imagery, small case studies or reference datasets and cannot be used on specific data archives and\n",
    "HPC infrastructures without major rework.\n",
    "We have developed a fit-for-purpose reusable software pipeline that both runs on the NeSI HPC and on\n",
    "local PCs with GPU support. It allows for flexible training from geospatial layers and large volumes of\n",
    "remote sensing imagery stored in the efficient KEA-file format, keeps inode usage at a minimum, and\n",
    "includes cross-validation visualization and tile-based predictions routines.\n",
    "The pipeline evolved while researching these techniques for a range of environmental applications,\n",
    "including mapping of urban trees and forests, forest destocking, landslides and historic urban green\n",
    "spaces. We discuss our experience with taking this agile approach.\n"
   ]
  },
  {
   "cell_type": "markdown",
   "id": "ebbcd1ab",
   "metadata": {},
   "source": []
  }
 ],
 "metadata": {
  "kernelspec": {
   "display_name": "Python 3.8.1 (gimkl-2018b)",
   "language": "python",
   "name": "python3"
  },
  "language_info": {
   "codemirror_mode": {
    "name": "ipython",
    "version": 3
   },
   "file_extension": ".py",
   "mimetype": "text/x-python",
   "name": "python",
   "nbconvert_exporter": "python",
   "pygments_lexer": "ipython3",
   "version": "3.8.1"
  }
 },
 "nbformat": 4,
 "nbformat_minor": 5
}
