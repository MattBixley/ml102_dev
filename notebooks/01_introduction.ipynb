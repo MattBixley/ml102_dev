{
 "cells": [
  {
   "cell_type": "markdown",
   "id": "57490165-3aa2-4c98-9504-a126f82895ae",
   "metadata": {},
   "source": [
    "# Introduction"
   ]
  },
  {
   "cell_type": "markdown",
   "id": "3019c7e6",
   "metadata": {},
   "source": [
    "## Contents/Learning\n",
    "* CNN\n",
    "* Classification\n",
    "* Segmentation\n",
    "* Transfer Learning/Data Augmentation ????\n",
    "\n",
    "Discuss source of lessons [Tensorflow Tutorials](www.tensorflow.org/tutorials/) perhaps discuss pyTorch. \n",
    "\n",
    "Use two NZ based example of image analyses to set the scene for how and why we might want to do this\n",
    "### Example 1\n",
    "Experiences developing an operational workflow for\n",
    "large-scale instance and semantic segmentation of\n",
    "remote sensing imagery using CNNs\n",
    "Jan Schindler1\n",
    ", Brent Martin2\n",
    ", Alexander Amies2\n",
    ", Ben Jolly3 and David Pairman2\n",
    "1 Manaaki Whenua – Landcare Research, Informatics, Wellington 6011, New Zealand\n",
    "2 Manaaki Whenua – Landcare Research, Informatics, Lincoln 7608, New Zealand\n",
    "3 Manaaki Whenua – Landcare Research, Informatics, Palmerston North 4472, New Zealand\n",
    "\n",
    "Convolutional Neural Network (CNN) architectures offer unprecedented opportunities for improved\n",
    "mapping of land cover, change and individual features in satellite and aerial imagery compared to\n",
    "traditional machine learning algorithms (e.g., Random Forests). We have utilized state-of-the art CNN\n",
    "architectures for instance segmentation of objects using MaskRCNN and semantic segmentation of land\n",
    "cover using ResUNet and have developed an operational workflow for mapping exercises at the local-,\n",
    "regional- and national scale.\n",
    "While a plethora of open-source Deep Learning frameworks exist, they usually target non-spatial\n",
    "imagery, small case studies or reference datasets and cannot be used on specific data archives and\n",
    "HPC infrastructures without major rework.\n",
    "We have developed a fit-for-purpose reusable software pipeline that both runs on the NeSI HPC and on\n",
    "local PCs with GPU support. It allows for flexible training from geospatial layers and large volumes of\n",
    "remote sensing imagery stored in the efficient KEA-file format, keeps inode usage at a minimum, and\n",
    "includes cross-validation visualization and tile-based predictions routines.\n",
    "The pipeline evolved while researching these techniques for a range of environmental applications,\n",
    "including mapping of urban trees and forests, forest destocking, landslides and historic urban green\n",
    "spaces. We discuss our experience with taking this agile approach.\n",
    "\n",
    "### Example 2\n",
    "Bird Counts?? is that actually just the same thing\n"
   ]
  },
  {
   "cell_type": "markdown",
   "id": "ebbcd1ab",
   "metadata": {},
   "source": []
  }
 ],
 "metadata": {
  "kernelspec": {
   "display_name": "Python 3.8.1 (gimkl-2018b)",
   "language": "python",
   "name": "python3"
  },
  "language_info": {
   "codemirror_mode": {
    "name": "ipython",
    "version": 3
   },
   "file_extension": ".py",
   "mimetype": "text/x-python",
   "name": "python",
   "nbconvert_exporter": "python",
   "pygments_lexer": "ipython3",
   "version": "3.8.1"
  }
 },
 "nbformat": 4,
 "nbformat_minor": 5
}
