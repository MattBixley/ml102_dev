{
 "cells": [
  {
   "cell_type": "markdown",
   "id": "1b2e5809-fcde-4511-96eb-2d35432f3a7f",
   "metadata": {
    "tags": []
   },
   "source": [
    "# Introduction\n",
    "\n",
    "## Contents/Learning\n",
    "\n",
    "1. [Introduction/Setup](01_introduction.ipynb) 30 Mins\n",
    "1. [Image classification](02_classification.ipynb) ([source](https://www.tensorflow.org/tutorials/images/classification)) 45 Mins\n",
    "1. [Transfer learning and fine-tuning](03_transfer_learning.ipynb) ([source](https://www.tensorflow.org/tutorials/images/transfer_learning)) 50 Mins\n",
    "1. [Slurm jobs on NeSI GPUs](04_slurm_jobs.ipynb) 30 Mins\n",
    "\n",
    "### Keywords \n",
    "\n",
    "Machine Learning, Neural Networks, Convolutional Neural Networks, Weights, Back Propogation, Gradient Descent\n",
    "\n",
    "### Workshop Notes  \n",
    "\n",
    "The workshop notebooks come from the [TensorFlow Tutorials](www.tensorflow.org/tutorials/). TensorFlow and Keras provide great tools for building machine learning skills, particularly in the area of image analysis. It's Python based, open-source, has lots of worked examples in the tutorials and generally provides a good balance between getting going and being able to build some useful models.\n",
    "\n",
    "[PyTorch](https://pytorch.org/) also has a set of [Tutorials](https://pytorch.org/tutorials/). It is slightly more Python heavy in its code base but essentially provides the same ability to rapidly build models and both are supported on the REANNZ Platform.\n",
    "\n",
    "### What are Neural Networks?\n",
    "\n",
    "A neural network is a type of machine learning model inspired by the way biological brains process information. It's essentially a system of mathematical functions that take input data, process it through interconnected layers of \"neurons\" and produce outputs.\n",
    "\n",
    "A neuron is a simple computational unit, which takes a number of input values, applies a weight (importance factor) for \n",
    "each input and then passes the result through a nonlinear activation function.\n",
    "\n",
    "![A neuron](../images/neuron.png)\n",
    "\n",
    "The neurons are assembled into layers. These are split into input, hidden and output layers. The input layer combines the raw data. The last, output layer produces the final prediction. Most of the learning happens in the hidden layers.\n",
    "There can be many hidden layers -- these apply transformations to the data in ways that will make it easier for the \n",
    "network to solve the task (e.g. classification, prediction).\n",
    "\n",
    "![A neural network with 3 hidden layers](../images/neural_network.png)\n",
    "\n",
    "\n",
    "### What are Convolutional Neural Networks?\n",
    "\n",
    "The inputs (or features) of a neural network can be anything. For instance, they can be the \n",
    "length of a bird's beak, the weight of the bird, etc. In a dense neural network, \n",
    "each neuron in one layer is connected to all neurons in the next layer. This can be computationally expensive and also prone to overfitting when there are many neurons.  \n",
    "When working with images, the features are the pixels of each image and each image can have millions of pixels so things \n",
    "can get out of hands pretty quickly in the presence of many hidden layers. \n",
    "\n",
    "A Convolutional Neural Network (CNN) is a type of _sparse_ neural network where only neighbouring pixels combine. This \n",
    "is achieved by applying a _convolution_ kernel. The kernel is a filter that applies weights to these neighbouring \n",
    "pixels.\n",
    "\n",
    "![A convolution](../images/convolution.png)\n",
    "\n",
    "By moving the filter around the image, one can extract features. For instance one can average neighbouring pixels \n",
    "to remove noise and therefore capture big features. Alternatively, one can take  differences between neighbouring pixels \n",
    "to identify sharp edges (contours). It is critical to apply the same filter across the image to ensure translational \n",
    "invariance (it does not matter whether the bird is on the left or right). The CNN learns the weights of the filter \n",
    "that makes it easier to identify a bird, for instance.\n",
    "\n",
    "![CNN Workflow](../images/CNNexample3.png)\n",
    "\n",
    "Source: www.towardsdatascience.com\n",
    "\n",
    "There are three types of layers in Convolutional Neural Networks:\n",
    "\n",
    "1) Convolutional Layer: In a typical neural network each input neuron is connected to the next hidden layer. In a CNN, only a small region of the input layer neurons connect to the neuron hidden layer.\n",
    "\n",
    "2) Pooling Layer: The pooling layer is used to reduce the dimensionality of the feature map. A common approach is to take th emaximum value of 2x2 tiles. \n",
    "\n",
    "3) Fully-Connected layer: Fully Connected Layers form the last few layers in the network. The input to the fully connected layer is the output from the final Pooling or Convolutional Layer, which is flattened and then fed into the fully connected layer.\n",
    "\n",
    "There will be multiple activation & pooling layers inside the hidden layer of the CNN.\n",
    "\n",
    "---\n",
    "**Next notebook:** [Image classification](02_classification.ipynb)"
   ]
  },
  {
   "cell_type": "code",
   "execution_count": null,
   "id": "a505fc92",
   "metadata": {
    "vscode": {
     "languageId": "plaintext"
    }
   },
   "outputs": [],
   "source": []
  }
 ],
 "metadata": {
  "kernelspec": {
   "display_name": "Python 3.8.1 (gimkl-2018b)",
   "language": "python",
   "name": "python3"
  },
  "language_info": {
   "codemirror_mode": {
    "name": "ipython",
    "version": 3
   },
   "file_extension": ".py",
   "mimetype": "text/x-python",
   "name": "python",
   "nbconvert_exporter": "python",
   "pygments_lexer": "ipython3",
   "version": "3.8.1"
  }
 },
 "nbformat": 4,
 "nbformat_minor": 5
}
