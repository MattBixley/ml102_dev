{
 "cells": [
  {
   "cell_type": "markdown",
   "id": "5bf00d16-27b5-48d3-aae0-dc21793fa707",
   "metadata": {},
   "source": [
    "# Slurm jobs on NeSI GPUs\n",
    "\n",
    "In this section, we will revisit our first model and try to execute it non-interactively on GPUs, using a Slurm job."
   ]
  },
  {
   "cell_type": "markdown",
   "id": "39cd58c6-9163-4dc6-98c4-5559bcfd6765",
   "metadata": {},
   "source": [
    "## Create a Python script\n",
    "\n",
    "- TODO describe the goal of this section\n",
    "- TODO provide instructions"
   ]
  },
  {
   "cell_type": "code",
   "execution_count": null,
   "id": "cb686e3c-86b2-493f-8254-d1bbfadca3fa",
   "metadata": {},
   "outputs": [],
   "source": [
    "%%writefile train_model.py\n",
    "import tensorflow as tf\n",
    "from tensorflow.keras import datasets, layers, models\n",
    "\n",
    "(train_images, train_labels), (test_images, test_labels) = datasets.cifar10.load_data()\n",
    "train_images, test_images = train_images / 255.0, test_images / 255.0\n",
    "input_shape = train_images.shape[1:]\n",
    "\n",
    "model = models.Sequential()\n",
    "model.add(layers.Conv2D(32, (3, 3), activation=\"relu\", input_shape=input_shape))\n",
    "model.add(layers.MaxPooling2D((2, 2)))\n",
    "model.add(layers.Conv2D(64, (3, 3), activation=\"relu\"))\n",
    "model.add(layers.MaxPooling2D((2, 2)))\n",
    "model.add(layers.Conv2D(64, (3, 3), activation=\"relu\"))\n",
    "model.add(layers.Flatten())\n",
    "model.add(layers.Dense(64, activation=\"relu\"))\n",
    "model.add(layers.Dense(10))\n",
    "\n",
    "model.summary()\n",
    "\n",
    "model.compile(\n",
    "    optimizer=\"adam\",\n",
    "    loss=tf.keras.losses.SparseCategoricalCrossentropy(from_logits=True),\n",
    "    metrics=[\"accuracy\"],\n",
    ")\n",
    "\n",
    "history = model.fit(\n",
    "    train_images, train_labels, epochs=20, validation_data=(test_images, test_labels)\n",
    ")\n",
    "\n",
    "model.save(\"trained_model_cifar10\")\n",
    "\n",
    "test_loss, test_acc = model.evaluate(test_images, test_labels, verbose=2)\n",
    "print(f\"test accuracy: {test_acc}\")"
   ]
  },
  {
   "cell_type": "markdown",
   "id": "4e4a6ecc-1330-4933-ad50-e5a999063ea2",
   "metadata": {},
   "source": [
    "## Create a Slurm job script\n",
    "\n",
    "- TODO describe the goal of the section\n",
    "- TODO explain the basics of a Slurm script\n",
    "- TODO provide instructions"
   ]
  },
  {
   "cell_type": "code",
   "execution_count": null,
   "id": "4fe7582a-e7c1-4e58-894c-b7db3034c6f7",
   "metadata": {},
   "outputs": [],
   "source": [
    "%%writefile train_model.sl\n",
    "#!/usr/bin/env bash\n",
    "#SBATCH --account=nesi99999\n",
    "#SBATCH --time=00-00:10:00\n",
    "#SBATCH --ntasks=1\n",
    "#SBATCH --cpus-per-task=2\n",
    "#SBATCH --mem=8GB\n",
    "#SBATCH --gpus-per-node=A100:1\n",
    "\n",
    "# load required environment modules\n",
    "module purge\n",
    "module load Miniconda3 cuDNN/8.1.1.33-CUDA-11.2.0\n",
    "\n",
    "# activate the conda environment\n",
    "source $(conda info --base)/etc/profile.d/conda.sh\n",
    "export PYTHONNOUSERSITE=1\n",
    "conda activate /scale_wlg_persistent/filesets/project/nesi99999/ml102_jupyter_kernel_env\n",
    "\n",
    "# execute the script\n",
    "python train_model.py"
   ]
  },
  {
   "cell_type": "markdown",
   "id": "8b442462-a1d6-4b96-9db8-842cd9fe0548",
   "metadata": {},
   "source": [
    "## Submit a Slurm job and check results\n",
    "\n",
    "- TODO describe goals of the section\n",
    "- TODO explain basics of job submission, queue & co\n",
    "- TODO check results"
   ]
  },
  {
   "cell_type": "code",
   "execution_count": null,
   "id": "834f6d9a-324e-4893-9555-507ada233813",
   "metadata": {},
   "outputs": [],
   "source": [
    "!sbatch train_model.sl"
   ]
  },
  {
   "cell_type": "code",
   "execution_count": null,
   "id": "a6888318-47ee-4b13-bf7a-6d3514cbfe7a",
   "metadata": {},
   "outputs": [],
   "source": [
    "!squeue --me"
   ]
  }
 ],
 "metadata": {
  "kernelspec": {
   "display_name": "Python 3.8.1 (gimkl-2018b)",
   "language": "python",
   "name": "python3"
  },
  "language_info": {
   "codemirror_mode": {
    "name": "ipython",
    "version": 3
   },
   "file_extension": ".py",
   "mimetype": "text/x-python",
   "name": "python",
   "nbconvert_exporter": "python",
   "pygments_lexer": "ipython3",
   "version": "3.8.1"
  }
 },
 "nbformat": 4,
 "nbformat_minor": 5
}
