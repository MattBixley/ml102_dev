{
 "cells": [
  {
   "cell_type": "markdown",
   "id": "5bf00d16-27b5-48d3-aae0-dc21793fa707",
   "metadata": {},
   "source": [
    "# Slurm jobs on NeSI GPUs"
   ]
  },
  {
   "cell_type": "code",
   "execution_count": null,
   "id": "cb686e3c-86b2-493f-8254-d1bbfadca3fa",
   "metadata": {},
   "outputs": [],
   "source": []
  }
 ],
 "metadata": {
  "kernelspec": {
   "display_name": "Python 3.8.1 (gimkl-2018b)",
   "language": "python",
   "name": "python3"
  },
  "language_info": {
   "codemirror_mode": {
    "name": "ipython",
    "version": 3
   },
   "file_extension": ".py",
   "mimetype": "text/x-python",
   "name": "python",
   "nbconvert_exporter": "python",
   "pygments_lexer": "ipython3",
   "version": "3.8.1"
  }
 },
 "nbformat": 4,
 "nbformat_minor": 5
}
